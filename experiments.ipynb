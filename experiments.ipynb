{
  "cells": [
    {
      "cell_type": "code",
      "execution_count": null,
      "metadata": {
        "colab": {
          "base_uri": "https://localhost:8080/"
        },
        "id": "WFz1i9fX72Aj",
        "outputId": "74e6bbd2-8deb-423d-d847-da9b1bf924bb"
      },
      "outputs": [
        {
          "output_type": "stream",
          "name": "stdout",
          "text": [
            "Drive already mounted at /content/drive/; to attempt to forcibly remount, call drive.mount(\"/content/drive/\", force_remount=True).\n"
          ]
        }
      ],
      "source": [
        "from google.colab import drive\n",
        "drive.mount('/content/drive/')"
      ]
    },
    {
      "cell_type": "code",
      "execution_count": null,
      "metadata": {
        "colab": {
          "base_uri": "https://localhost:8080/"
        },
        "id": "wWaEX1SKLm5i",
        "outputId": "fd0c843a-404a-438c-d3c2-f626de757c96"
      },
      "outputs": [
        {
          "output_type": "stream",
          "name": "stdout",
          "text": [
            "[Errno 2] No such file or directory: 'drive/MyDrive/phd_projects/rnn/rnn_v1_0_0'\n",
            "/content/drive/MyDrive/phd_projects/rnn/rnn_v1_0_0\n"
          ]
        }
      ],
      "source": [
        "%cd drive/MyDrive/phd_projects/rnn/rnn_v1_0_0"
      ]
    },
    {
      "cell_type": "code",
      "execution_count": null,
      "metadata": {
        "id": "O5-NeTM90dHr"
      },
      "outputs": [],
      "source": [
        "# # LSTM\n",
        "# RNN_MODULE = 'lstm'\n",
        "# N_CLUSTERS = 25\n",
        "# HIDDEN_LAYER_SIZE = 64\n",
        "# NN_MODEL_STATES_DIM_SIZE = HIDDEN_LAYER_SIZE * 2\n",
        "# DATASET_TYPE = 'speech'\n",
        "\n",
        "# GRU\n",
        "RNN_MODULE = 'gru'\n",
        "N_CLUSTERS = 15\n",
        "HIDDEN_LAYER_SIZE = 64\n",
        "NN_MODEL_STATES_DIM_SIZE = HIDDEN_LAYER_SIZE\n",
        "DATASET_TYPE = 'speech'\n",
        "\n",
        "# # RNN\n",
        "# RNN_MODULE = 'rnn'\n",
        "# N_CLUSTERS = 100\n",
        "# HIDDEN_LAYER_SIZE = 64\n",
        "# NN_MODEL_STATES_DIM_SIZE = HIDDEN_LAYER_SIZE\n",
        "# DATASET_TYPE = 'image'"
      ]
    },
    {
      "cell_type": "markdown",
      "metadata": {
        "id": "4lcnn3q6G3um"
      },
      "source": [
        "# Loading Data"
      ]
    },
    {
      "cell_type": "code",
      "execution_count": null,
      "metadata": {
        "id": "-8TMrHftG213"
      },
      "outputs": [],
      "source": [
        "from libs.data_feed import MnistDataSet\n",
        "import numpy as np\n",
        "\n",
        "if DATASET_TYPE == 'image':\n",
        "  x_train, y_train, x_test, y_test = MnistDataSet().get_dataset()\n",
        "elif DATASET_TYPE == 'speech':\n",
        "  speech_train_test = np.load(f\"cache/speech_train_test.npz\")\n",
        "  x_train = speech_train_test['x_train']\n",
        "  y_train = speech_train_test['y_train']\n",
        "  x_test = speech_train_test['x_test']\n",
        "  y_test = speech_train_test['y_test']\n",
        "  # raw_x_train=speech_train_test['raw_x_train']\n",
        "  # raw_x_test=speech_train_test['raw_x_test']\n",
        "  del speech_train_test\n",
        "else:\n",
        "  raise('error in loading dataset')"
      ]
    },
    {
      "cell_type": "markdown",
      "metadata": {
        "id": "LXz5MsPb82B3"
      },
      "source": [
        "# Loading Model"
      ]
    },
    {
      "cell_type": "code",
      "execution_count": null,
      "metadata": {
        "colab": {
          "base_uri": "https://localhost:8080/"
        },
        "id": "eKc4SqVQ81Gl",
        "outputId": "6a7f714b-fce6-44cc-a3d5-349812c66ec0"
      },
      "outputs": [
        {
          "output_type": "stream",
          "name": "stdout",
          "text": [
            "Model: \"model_2\"\n",
            "_________________________________________________________________\n",
            " Layer (type)                Output Shape              Param #   \n",
            "=================================================================\n",
            " model_input (InputLayer)    [(None, 124, 129)]        0         \n",
            "                                                                 \n",
            " rnn_2 (RNN)                 (None, 64)                37440     \n",
            "                                                                 \n",
            " dense_2 (Dense)             (None, 8)                 520       \n",
            "                                                                 \n",
            " softmax_2 (Softmax)         (None, 8)                 0         \n",
            "                                                                 \n",
            "=================================================================\n",
            "Total params: 37,960\n",
            "Trainable params: 37,960\n",
            "Non-trainable params: 0\n",
            "_________________________________________________________________\n"
          ]
        }
      ],
      "source": [
        "from libs.recurrent_model import RecurrentModel\n",
        "import tensorflow as tf\n",
        "\n",
        "rnn_model = RecurrentModel(\n",
        "  input_shape=(x_train.shape[1],x_train.shape[2]),\n",
        "  hidden_layer_size=HIDDEN_LAYER_SIZE,\n",
        "  output_size=y_train.shape[1],\n",
        "  weights_folder_address=f\"{RNN_MODULE}/{DATASET_TYPE}_model_weights\",\n",
        "  rrn_module_name=RNN_MODULE\n",
        ")\n",
        "rnn_model.keras_model.summary()"
      ]
    },
    {
      "cell_type": "markdown",
      "metadata": {
        "id": "WKL9RGrkejBT"
      },
      "source": [
        "# Extracting Model States"
      ]
    },
    {
      "cell_type": "code",
      "execution_count": null,
      "metadata": {
        "id": "LJBMPkBmXRTg"
      },
      "outputs": [],
      "source": [
        "# states = rnn_model.keras_model_with_states.predict(np.vstack([x_train,x_test]))[0]\n",
        "# states.shape"
      ]
    },
    {
      "cell_type": "code",
      "execution_count": null,
      "metadata": {
        "id": "GEMoQ2aXdQSA"
      },
      "outputs": [],
      "source": [
        "# pred = rnn_model.keras_model.predict(np.vstack([x_train,x_test]))\n",
        "# pred.shape"
      ]
    },
    {
      "cell_type": "code",
      "execution_count": null,
      "metadata": {
        "id": "GaoC2rwrXW_Q"
      },
      "outputs": [],
      "source": [
        "# np.savez_compressed(f\"{RNN_MODULE}/{DATASET_TYPE}_model_states/states_pred.npz\", states=states, pred=pred)"
      ]
    },
    {
      "cell_type": "code",
      "execution_count": null,
      "metadata": {
        "id": "8upkWEcqaLoV"
      },
      "outputs": [],
      "source": [
        "saved_model_states_pred = np.load(f\"{RNN_MODULE}/{DATASET_TYPE}_model_states/states_pred.npz\")\n",
        "states = saved_model_states_pred['states'][:len(x_train)]\n",
        "pred =  saved_model_states_pred['pred'][:len(x_train)]\n",
        "true = y_train\n",
        "\n",
        "states_test = saved_model_states_pred['states'][len(x_train):]\n",
        "pred_test =  saved_model_states_pred['pred'][len(x_train):]\n",
        "\n",
        "true_test = np.argmax(y_test, axis=1)\n",
        "pred_test = np.argmax(pred_test, axis=1)\n",
        "\n",
        "del y_test\n",
        "del y_train\n",
        "del saved_model_states_pred"
      ]
    },
    {
      "cell_type": "code",
      "execution_count": null,
      "metadata": {
        "id": "BGNwJGKUpNmO"
      },
      "outputs": [],
      "source": [
        "features_mean = states.reshape(-1,NN_MODEL_STATES_DIM_SIZE).mean(axis=0)\n",
        "features_std = states.reshape(-1,NN_MODEL_STATES_DIM_SIZE).std(axis=0)\n",
        "\n",
        "states = (states - features_mean)/features_std\n",
        "states_test = (states_test - features_mean)/features_std\n",
        "\n",
        "states = states.reshape((-1,x_train.shape[1],NN_MODEL_STATES_DIM_SIZE))\n",
        "states_test = states_test.reshape((-1,x_train.shape[1],NN_MODEL_STATES_DIM_SIZE))"
      ]
    },
    {
      "cell_type": "markdown",
      "metadata": {
        "id": "58nIrNUFhOtp"
      },
      "source": [
        "# States Clustering"
      ]
    },
    {
      "cell_type": "code",
      "execution_count": null,
      "metadata": {
        "id": "r0gPjp4YtPe0"
      },
      "outputs": [],
      "source": [
        "from sklearn.cluster import KMeans\n",
        "import pickle\n",
        "\n",
        "kmeans = KMeans(n_clusters=N_CLUSTERS, random_state=0).fit(\n",
        "    states.reshape(-1,NN_MODEL_STATES_DIM_SIZE)[np.random.choice(states.shape[0]*states.shape[1],x_train.shape[0]),:]\n",
        ")\n",
        "\n",
        "with open(f'{RNN_MODULE}/{DATASET_TYPE}_model_kmeans/kmeans_{str(N_CLUSTERS)}.pickle', 'wb') as handle:\n",
        "  pickle.dump(kmeans, handle, protocol=pickle.HIGHEST_PROTOCOL)"
      ]
    },
    {
      "cell_type": "code",
      "execution_count": null,
      "metadata": {
        "id": "95sKZW4Q7Fcf"
      },
      "outputs": [],
      "source": [
        "with open(f'{RNN_MODULE}/{DATASET_TYPE}_model_kmeans/kmeans_{str(N_CLUSTERS)}.pickle', 'rb') as handle:\n",
        "  kmeans = pickle.load(handle)\n",
        "\n",
        "traces = kmeans.predict(states.reshape(-1,NN_MODEL_STATES_DIM_SIZE)).reshape((-1,states.shape[1]))\n",
        "distances_to_clusters = kmeans.transform(states.reshape(-1,NN_MODEL_STATES_DIM_SIZE)).min(axis=1)\n",
        "\n",
        "max_distance_in_clusters = distances_to_clusters.max()\n",
        "mean_distance_in_clusters = distances_to_clusters.mean()\n",
        "\n",
        "# traces_test = kmeans.predict(states_test.reshape(-1,NN_MODEL_STATES_DIM_SIZE)).reshape((-1,states_test.shape[1]))"
      ]
    },
    {
      "cell_type": "markdown",
      "metadata": {
        "id": "X7-F-rBbB6vJ"
      },
      "source": [
        "# DTMC"
      ]
    },
    {
      "cell_type": "code",
      "execution_count": null,
      "metadata": {
        "id": "FWSnw0OOlSK4",
        "colab": {
          "base_uri": "https://localhost:8080/"
        },
        "outputId": "2ad6d00e-5c68-4348-9acd-e92efcb02127"
      },
      "outputs": [
        {
          "output_type": "stream",
          "name": "stderr",
          "text": [
            "WARNING:tensorflow:Detecting that an object or model or tf.train.Checkpoint is being deleted with unrestored values. See the following logs for the specific values in question. To silence these warnings, use `status.expect_partial()`. See https://www.tensorflow.org/api_docs/python/tf/train/Checkpoint#restorefor details about the status object returned by the restore function.\n",
            "WARNING:tensorflow:Value in checkpoint could not be found in the restored object: (root).optimizer.iter\n",
            "WARNING:tensorflow:Value in checkpoint could not be found in the restored object: (root).optimizer.decay\n",
            "WARNING:tensorflow:Value in checkpoint could not be found in the restored object: (root).optimizer.learning_rate\n",
            "WARNING:tensorflow:Value in checkpoint could not be found in the restored object: (root).optimizer.momentum\n",
            "WARNING:tensorflow:Value in checkpoint could not be found in the restored object: (root).optimizer.rho\n",
            "WARNING:tensorflow:Value in checkpoint could not be found in the restored object: (root).keras_api.metrics.0.total\n",
            "WARNING:tensorflow:Value in checkpoint could not be found in the restored object: (root).keras_api.metrics.0.count\n",
            "WARNING:tensorflow:Value in checkpoint could not be found in the restored object: (root).keras_api.metrics.1.total\n",
            "WARNING:tensorflow:Value in checkpoint could not be found in the restored object: (root).keras_api.metrics.1.count\n",
            "WARNING:tensorflow:Detecting that an object or model or tf.train.Checkpoint is being deleted with unrestored values. See the following logs for the specific values in question. To silence these warnings, use `status.expect_partial()`. See https://www.tensorflow.org/api_docs/python/tf/train/Checkpoint#restorefor details about the status object returned by the restore function.\n",
            "WARNING:tensorflow:Value in checkpoint could not be found in the restored object: (root).optimizer.iter\n",
            "WARNING:tensorflow:Value in checkpoint could not be found in the restored object: (root).optimizer.decay\n",
            "WARNING:tensorflow:Value in checkpoint could not be found in the restored object: (root).optimizer.learning_rate\n",
            "WARNING:tensorflow:Value in checkpoint could not be found in the restored object: (root).optimizer.momentum\n",
            "WARNING:tensorflow:Value in checkpoint could not be found in the restored object: (root).optimizer.rho\n",
            "WARNING:tensorflow:Value in checkpoint could not be found in the restored object: (root).keras_api.metrics.0.total\n",
            "WARNING:tensorflow:Value in checkpoint could not be found in the restored object: (root).keras_api.metrics.0.count\n",
            "WARNING:tensorflow:Value in checkpoint could not be found in the restored object: (root).keras_api.metrics.1.total\n",
            "WARNING:tensorflow:Value in checkpoint could not be found in the restored object: (root).keras_api.metrics.1.count\n"
          ]
        }
      ],
      "source": [
        "import seaborn as sn\n",
        "from libs.dtmc import DTMC\n",
        "\n",
        "dtmc_model = DTMC(traces, None, N_CLUSTERS)\n",
        "del traces"
      ]
    },
    {
      "cell_type": "markdown",
      "metadata": {
        "id": "rq1Dx9PvUJTj"
      },
      "source": [
        "# DTMC Evaluation"
      ]
    },
    {
      "cell_type": "code",
      "execution_count": null,
      "metadata": {
        "colab": {
          "base_uri": "https://localhost:8080/",
          "height": 937
        },
        "id": "0hQs2X5PPt3S",
        "outputId": "d370caf1-8782-4257-b112-44040a9713ac"
      },
      "outputs": [
        {
          "output_type": "stream",
          "name": "stdout",
          "text": [
            "N Clusters: 15\n",
            "DTMC purity: 0.97671875\n",
            "DTMC last states count mean: 426.6666666666667\n",
            "Goodness Score: 337.1195698453237\n",
            "[Last States Count / 8] Scale:  1.875\n",
            "\n",
            "last_states_true_based_df:\n",
            "    last_state  true_label  count  group_count      prob\n",
            "0           0           0      2          754  0.002653\n",
            "1           0           1      1          754  0.001326\n",
            "2           0           2      6          754  0.007958\n",
            "3           0           3      4          754  0.005305\n",
            "4           0           4      3          754  0.003979\n",
            "\n",
            "last_states_df:\n"
          ]
        },
        {
          "output_type": "execute_result",
          "data": {
            "text/plain": [
              "    last_state  pred_label  count  group_count      prob\n",
              "40          10           3      3          755  0.003974\n",
              "41          11           6     69           69  1.000000\n",
              "42          12           0     12           33  0.363636\n",
              "43          12           1      3           33  0.090909\n",
              "44          12           3      3           33  0.090909\n",
              "45          12           5     12           33  0.363636\n",
              "46          12           6      3           33  0.090909\n",
              "47          13           0      6           25  0.240000\n",
              "48          13           1      1           25  0.040000\n",
              "49          13           2      2           25  0.080000\n",
              "50          13           4      3           25  0.120000\n",
              "51          13           5      2           25  0.080000\n",
              "52          13           6      4           25  0.160000\n",
              "53          13           7      7           25  0.280000\n",
              "54          14           0     11           59  0.186441\n",
              "55          14           2      3           59  0.050847\n",
              "56          14           3      3           59  0.050847\n",
              "57          14           4      7           59  0.118644\n",
              "58          14           5      6           59  0.101695\n",
              "59          14           6      3           59  0.050847"
            ],
            "text/html": [
              "\n",
              "  <div id=\"df-d54140e5-f23b-4613-85a9-a37b687e2fcb\">\n",
              "    <div class=\"colab-df-container\">\n",
              "      <div>\n",
              "<style scoped>\n",
              "    .dataframe tbody tr th:only-of-type {\n",
              "        vertical-align: middle;\n",
              "    }\n",
              "\n",
              "    .dataframe tbody tr th {\n",
              "        vertical-align: top;\n",
              "    }\n",
              "\n",
              "    .dataframe thead th {\n",
              "        text-align: right;\n",
              "    }\n",
              "</style>\n",
              "<table border=\"1\" class=\"dataframe\">\n",
              "  <thead>\n",
              "    <tr style=\"text-align: right;\">\n",
              "      <th></th>\n",
              "      <th>last_state</th>\n",
              "      <th>pred_label</th>\n",
              "      <th>count</th>\n",
              "      <th>group_count</th>\n",
              "      <th>prob</th>\n",
              "    </tr>\n",
              "  </thead>\n",
              "  <tbody>\n",
              "    <tr>\n",
              "      <th>40</th>\n",
              "      <td>10</td>\n",
              "      <td>3</td>\n",
              "      <td>3</td>\n",
              "      <td>755</td>\n",
              "      <td>0.003974</td>\n",
              "    </tr>\n",
              "    <tr>\n",
              "      <th>41</th>\n",
              "      <td>11</td>\n",
              "      <td>6</td>\n",
              "      <td>69</td>\n",
              "      <td>69</td>\n",
              "      <td>1.000000</td>\n",
              "    </tr>\n",
              "    <tr>\n",
              "      <th>42</th>\n",
              "      <td>12</td>\n",
              "      <td>0</td>\n",
              "      <td>12</td>\n",
              "      <td>33</td>\n",
              "      <td>0.363636</td>\n",
              "    </tr>\n",
              "    <tr>\n",
              "      <th>43</th>\n",
              "      <td>12</td>\n",
              "      <td>1</td>\n",
              "      <td>3</td>\n",
              "      <td>33</td>\n",
              "      <td>0.090909</td>\n",
              "    </tr>\n",
              "    <tr>\n",
              "      <th>44</th>\n",
              "      <td>12</td>\n",
              "      <td>3</td>\n",
              "      <td>3</td>\n",
              "      <td>33</td>\n",
              "      <td>0.090909</td>\n",
              "    </tr>\n",
              "    <tr>\n",
              "      <th>45</th>\n",
              "      <td>12</td>\n",
              "      <td>5</td>\n",
              "      <td>12</td>\n",
              "      <td>33</td>\n",
              "      <td>0.363636</td>\n",
              "    </tr>\n",
              "    <tr>\n",
              "      <th>46</th>\n",
              "      <td>12</td>\n",
              "      <td>6</td>\n",
              "      <td>3</td>\n",
              "      <td>33</td>\n",
              "      <td>0.090909</td>\n",
              "    </tr>\n",
              "    <tr>\n",
              "      <th>47</th>\n",
              "      <td>13</td>\n",
              "      <td>0</td>\n",
              "      <td>6</td>\n",
              "      <td>25</td>\n",
              "      <td>0.240000</td>\n",
              "    </tr>\n",
              "    <tr>\n",
              "      <th>48</th>\n",
              "      <td>13</td>\n",
              "      <td>1</td>\n",
              "      <td>1</td>\n",
              "      <td>25</td>\n",
              "      <td>0.040000</td>\n",
              "    </tr>\n",
              "    <tr>\n",
              "      <th>49</th>\n",
              "      <td>13</td>\n",
              "      <td>2</td>\n",
              "      <td>2</td>\n",
              "      <td>25</td>\n",
              "      <td>0.080000</td>\n",
              "    </tr>\n",
              "    <tr>\n",
              "      <th>50</th>\n",
              "      <td>13</td>\n",
              "      <td>4</td>\n",
              "      <td>3</td>\n",
              "      <td>25</td>\n",
              "      <td>0.120000</td>\n",
              "    </tr>\n",
              "    <tr>\n",
              "      <th>51</th>\n",
              "      <td>13</td>\n",
              "      <td>5</td>\n",
              "      <td>2</td>\n",
              "      <td>25</td>\n",
              "      <td>0.080000</td>\n",
              "    </tr>\n",
              "    <tr>\n",
              "      <th>52</th>\n",
              "      <td>13</td>\n",
              "      <td>6</td>\n",
              "      <td>4</td>\n",
              "      <td>25</td>\n",
              "      <td>0.160000</td>\n",
              "    </tr>\n",
              "    <tr>\n",
              "      <th>53</th>\n",
              "      <td>13</td>\n",
              "      <td>7</td>\n",
              "      <td>7</td>\n",
              "      <td>25</td>\n",
              "      <td>0.280000</td>\n",
              "    </tr>\n",
              "    <tr>\n",
              "      <th>54</th>\n",
              "      <td>14</td>\n",
              "      <td>0</td>\n",
              "      <td>11</td>\n",
              "      <td>59</td>\n",
              "      <td>0.186441</td>\n",
              "    </tr>\n",
              "    <tr>\n",
              "      <th>55</th>\n",
              "      <td>14</td>\n",
              "      <td>2</td>\n",
              "      <td>3</td>\n",
              "      <td>59</td>\n",
              "      <td>0.050847</td>\n",
              "    </tr>\n",
              "    <tr>\n",
              "      <th>56</th>\n",
              "      <td>14</td>\n",
              "      <td>3</td>\n",
              "      <td>3</td>\n",
              "      <td>59</td>\n",
              "      <td>0.050847</td>\n",
              "    </tr>\n",
              "    <tr>\n",
              "      <th>57</th>\n",
              "      <td>14</td>\n",
              "      <td>4</td>\n",
              "      <td>7</td>\n",
              "      <td>59</td>\n",
              "      <td>0.118644</td>\n",
              "    </tr>\n",
              "    <tr>\n",
              "      <th>58</th>\n",
              "      <td>14</td>\n",
              "      <td>5</td>\n",
              "      <td>6</td>\n",
              "      <td>59</td>\n",
              "      <td>0.101695</td>\n",
              "    </tr>\n",
              "    <tr>\n",
              "      <th>59</th>\n",
              "      <td>14</td>\n",
              "      <td>6</td>\n",
              "      <td>3</td>\n",
              "      <td>59</td>\n",
              "      <td>0.050847</td>\n",
              "    </tr>\n",
              "  </tbody>\n",
              "</table>\n",
              "</div>\n",
              "      <button class=\"colab-df-convert\" onclick=\"convertToInteractive('df-d54140e5-f23b-4613-85a9-a37b687e2fcb')\"\n",
              "              title=\"Convert this dataframe to an interactive table.\"\n",
              "              style=\"display:none;\">\n",
              "        \n",
              "  <svg xmlns=\"http://www.w3.org/2000/svg\" height=\"24px\"viewBox=\"0 0 24 24\"\n",
              "       width=\"24px\">\n",
              "    <path d=\"M0 0h24v24H0V0z\" fill=\"none\"/>\n",
              "    <path d=\"M18.56 5.44l.94 2.06.94-2.06 2.06-.94-2.06-.94-.94-2.06-.94 2.06-2.06.94zm-11 1L8.5 8.5l.94-2.06 2.06-.94-2.06-.94L8.5 2.5l-.94 2.06-2.06.94zm10 10l.94 2.06.94-2.06 2.06-.94-2.06-.94-.94-2.06-.94 2.06-2.06.94z\"/><path d=\"M17.41 7.96l-1.37-1.37c-.4-.4-.92-.59-1.43-.59-.52 0-1.04.2-1.43.59L10.3 9.45l-7.72 7.72c-.78.78-.78 2.05 0 2.83L4 21.41c.39.39.9.59 1.41.59.51 0 1.02-.2 1.41-.59l7.78-7.78 2.81-2.81c.8-.78.8-2.07 0-2.86zM5.41 20L4 18.59l7.72-7.72 1.47 1.35L5.41 20z\"/>\n",
              "  </svg>\n",
              "      </button>\n",
              "      \n",
              "  <style>\n",
              "    .colab-df-container {\n",
              "      display:flex;\n",
              "      flex-wrap:wrap;\n",
              "      gap: 12px;\n",
              "    }\n",
              "\n",
              "    .colab-df-convert {\n",
              "      background-color: #E8F0FE;\n",
              "      border: none;\n",
              "      border-radius: 50%;\n",
              "      cursor: pointer;\n",
              "      display: none;\n",
              "      fill: #1967D2;\n",
              "      height: 32px;\n",
              "      padding: 0 0 0 0;\n",
              "      width: 32px;\n",
              "    }\n",
              "\n",
              "    .colab-df-convert:hover {\n",
              "      background-color: #E2EBFA;\n",
              "      box-shadow: 0px 1px 2px rgba(60, 64, 67, 0.3), 0px 1px 3px 1px rgba(60, 64, 67, 0.15);\n",
              "      fill: #174EA6;\n",
              "    }\n",
              "\n",
              "    [theme=dark] .colab-df-convert {\n",
              "      background-color: #3B4455;\n",
              "      fill: #D2E3FC;\n",
              "    }\n",
              "\n",
              "    [theme=dark] .colab-df-convert:hover {\n",
              "      background-color: #434B5C;\n",
              "      box-shadow: 0px 1px 3px 1px rgba(0, 0, 0, 0.15);\n",
              "      filter: drop-shadow(0px 1px 2px rgba(0, 0, 0, 0.3));\n",
              "      fill: #FFFFFF;\n",
              "    }\n",
              "  </style>\n",
              "\n",
              "      <script>\n",
              "        const buttonEl =\n",
              "          document.querySelector('#df-d54140e5-f23b-4613-85a9-a37b687e2fcb button.colab-df-convert');\n",
              "        buttonEl.style.display =\n",
              "          google.colab.kernel.accessAllowed ? 'block' : 'none';\n",
              "\n",
              "        async function convertToInteractive(key) {\n",
              "          const element = document.querySelector('#df-d54140e5-f23b-4613-85a9-a37b687e2fcb');\n",
              "          const dataTable =\n",
              "            await google.colab.kernel.invokeFunction('convertToInteractive',\n",
              "                                                     [key], {});\n",
              "          if (!dataTable) return;\n",
              "\n",
              "          const docLinkHtml = 'Like what you see? Visit the ' +\n",
              "            '<a target=\"_blank\" href=https://colab.research.google.com/notebooks/data_table.ipynb>data table notebook</a>'\n",
              "            + ' to learn more about interactive tables.';\n",
              "          element.innerHTML = '';\n",
              "          dataTable['output_type'] = 'display_data';\n",
              "          await google.colab.output.renderOutput(dataTable, element);\n",
              "          const docLink = document.createElement('div');\n",
              "          docLink.innerHTML = docLinkHtml;\n",
              "          element.appendChild(docLink);\n",
              "        }\n",
              "      </script>\n",
              "    </div>\n",
              "  </div>\n",
              "  "
            ]
          },
          "metadata": {},
          "execution_count": 35
        }
      ],
      "source": [
        "from libs.dtmc_evaluation import DtmcEvaluator\n",
        "\n",
        "dtmc_evaluator = DtmcEvaluator()\n",
        "\n",
        "last_states_true_based_df = dtmc_evaluator.calculate_true_label_based_last_state_df(dtmc_model.traces_df, true)\n",
        "purity, last_states_count_mean, last_states_df = dtmc_evaluator.calculate_dtmc_purity(dtmc_model.traces_df, pred)\n",
        "\n",
        "print('N Clusters:', N_CLUSTERS)\n",
        "print('DTMC purity:', purity)\n",
        "print('DTMC last states count mean:', last_states_count_mean)\n",
        "print('Goodness Score:', (purity ** 10) * last_states_count_mean)\n",
        "print(f'[Last States Count / {true.shape[1]}] Scale: ', len(np.unique(last_states_df['last_state']))/true.shape[1])\n",
        "print('\\nlast_states_true_based_df:\\n',last_states_true_based_df[0:5])\n",
        "print('\\nlast_states_df:')\n",
        "last_states_df[40:60]"
      ]
    },
    {
      "cell_type": "code",
      "execution_count": null,
      "metadata": {
        "colab": {
          "base_uri": "https://localhost:8080/",
          "height": 513
        },
        "id": "whNyR1cRIHQ4",
        "outputId": "1d77a258-e696-4f76-aed8-3b6f920b298b"
      },
      "outputs": [
        {
          "output_type": "display_data",
          "data": {
            "text/plain": [
              "<Figure size 1200x600 with 1 Axes>"
            ],
            "image/png": "[encoded data removed]"
          },
          "metadata": {
            "needs_background": "light"
          }
        }
      ],
      "source": [
        "from matplotlib.pyplot import figure\n",
        "import matplotlib.pyplot as plt\n",
        "figure(figsize=(12, 6), dpi=100)\n",
        "\n",
        "plt.scatter(x=np.arange(100),y=(np.arange(100)/100), color = 'red')\n",
        "plt.scatter(x=np.arange(100),y=(np.arange(100)/100)**10, color = 'green')\n",
        "plt.show()"
      ]
    },
    {
      "cell_type": "markdown",
      "metadata": {
        "id": "XX-ezxbzhk6W"
      },
      "source": [
        "# Test Data Transformation"
      ]
    },
    {
      "cell_type": "code",
      "execution_count": null,
      "metadata": {
        "id": "62ekLVwXVITf"
      },
      "outputs": [],
      "source": [
        "from libs.image_transformer import ImageTransformer\n",
        "\n",
        "_image_transformer = ImageTransformer()\n",
        "x_test_rotated, x_test_zoomed, x_test_zoomed_out = _image_transformer.transform_images(x_test)"
      ]
    },
    {
      "cell_type": "code",
      "execution_count": null,
      "metadata": {
        "colab": {
          "base_uri": "https://localhost:8080/"
        },
        "id": "00m9EKnnlppT",
        "outputId": "d9c25662-5802-41d1-c732-40d0b00cf86b"
      },
      "outputs": [
        {
          "output_type": "stream",
          "name": "stdout",
          "text": [
            "50/50 [==============================] - 1s 22ms/step\n",
            "50/50 [==============================] - 1s 22ms/step\n",
            "50/50 [==============================] - 1s 23ms/step\n"
          ]
        }
      ],
      "source": [
        "pred_test_rotated = np.argmax(rnn_model.keras_model.predict(x_test_rotated), axis=1)\n",
        "pred_test_zoomed = np.argmax(rnn_model.keras_model.predict(x_test_zoomed), axis=1)\n",
        "pred_test_zoomed_out = np.argmax(rnn_model.keras_model.predict(x_test_zoomed_out), axis=1)"
      ]
    },
    {
      "cell_type": "code",
      "execution_count": null,
      "metadata": {
        "colab": {
          "base_uri": "https://localhost:8080/"
        },
        "id": "9mU3JNZ6nv3T",
        "outputId": "c94e3516-5ef2-4252-9efe-411b3473103b"
      },
      "outputs": [
        {
          "output_type": "stream",
          "name": "stdout",
          "text": [
            "50/50 [==============================] - 1s 24ms/step\n",
            "50/50 [==============================] - 1s 26ms/step\n",
            "50/50 [==============================] - 1s 25ms/step\n",
            "50/50 [==============================] - 1s 24ms/step\n"
          ]
        }
      ],
      "source": [
        "def run_the_flow(trans_images):\n",
        "  trans_states = rnn_model.keras_model_with_states.predict(trans_images)[0]\n",
        "  trans_traces = kmeans.predict(trans_states.reshape(-1,trans_states.shape[-1])).reshape((-1,trans_states.shape[1]))\n",
        "  trans_traces_dist_to_centroids = kmeans.transform(trans_states.reshape(-1,trans_states.shape[-1])).min(axis=1).reshape((-1,trans_states.shape[1]))\n",
        "\n",
        "  return DTMC(trans_traces, trans_traces_dist_to_centroids, N_CLUSTERS)\n",
        "\n",
        "dtmc_model_test = run_the_flow(x_test)\n",
        "dtmc_model_test_rotated = run_the_flow(x_test_rotated)\n",
        "dtmc_model_test_zoomed = run_the_flow(x_test_zoomed)\n",
        "dtmc_model_test_zoomed_out = run_the_flow(x_test_zoomed_out)"
      ]
    },
    {
      "cell_type": "markdown",
      "metadata": {
        "id": "hGihu_eBG7j4"
      },
      "source": [
        "# Feature Extraction"
      ]
    },
    {
      "cell_type": "code",
      "execution_count": null,
      "metadata": {
        "id": "eSlNtLkNG6zg"
      },
      "outputs": [],
      "source": [
        "from libs.feature_manager import FeatureExtractor\n",
        "\n",
        "feature_extractor = FeatureExtractor()\n",
        "\n",
        "traces_features_df_test = feature_extractor.extract_features(dtmc_model, last_states_df, true_test, dtmc_model_test, pred_test)\n",
        "traces_features_df_test_rotated = feature_extractor.extract_features(dtmc_model, last_states_df, true_test, dtmc_model_test_rotated, pred_test_rotated)\n",
        "traces_features_df_test_zoomed = feature_extractor.extract_features(dtmc_model, last_states_df, true_test, dtmc_model_test_zoomed, pred_test_zoomed)\n",
        "traces_features_df_test_zoomed_out = feature_extractor.extract_features(dtmc_model, last_states_df, true_test, dtmc_model_test_zoomed_out, pred_test_zoomed_out)"
      ]
    },
    {
      "cell_type": "markdown",
      "metadata": {
        "id": "9DZN7VuTJ-4o"
      },
      "source": [
        "# Coverage Criterias Evaluation"
      ]
    },
    {
      "cell_type": "code",
      "execution_count": null,
      "metadata": {
        "id": "KtReVjzToqE3"
      },
      "outputs": [],
      "source": [
        "import pandas as pd\n",
        "import numpy as np\n",
        "\n",
        "class CoverageCriterias:\n",
        "  def __init__(\n",
        "    self,\n",
        "    dtmc_model,\n",
        "    last_states_df,\n",
        "    last_states_true_based_df,\n",
        "    all_states_counts,\n",
        "    dataset_classes_count,\n",
        "    mean_dist_to_centroids,\n",
        "    max_dist_to_centroids\n",
        "  ):\n",
        "\n",
        "    self.last_states_true_based_df = last_states_true_based_df\n",
        "    self.last_states_df = last_states_df\n",
        "    self.all_states_counts = all_states_counts\n",
        "    self.dataset_classes_count = dataset_classes_count\n",
        "    self.mean_dist_to_centroids = mean_dist_to_centroids\n",
        "    self.max_dist_to_centroids = max_dist_to_centroids\n",
        "\n",
        "    self.last_states_in_training = np.unique(self.last_states_df['last_state'].astype(str))\n",
        "    self.last_states_and_true_label_in_training = (\n",
        "      self.last_states_true_based_df['last_state'].astype(str)\\\n",
        "      + '.' + self.last_states_true_based_df['true_label'].astype(str)\n",
        "    ).values\n",
        "\n",
        "    self.train_states_np, self.train_states_count_np = np.unique(dtmc_model.traces_df, return_counts=True)\n",
        "\n",
        "    train_traces_df = dtmc_model.traces_df.copy()\n",
        "    train_transitions_df = train_traces_df.transpose().reset_index(drop=True)[0:-1]\\\n",
        "                                          .reset_index(drop=True).astype(str) + '_' +\\\n",
        "                                          train_traces_df.transpose()\\\n",
        "                                          .reset_index(drop=True)[1:]\\\n",
        "                                          .reset_index(drop=True).astype(str)\n",
        "    self.train_transitions_np, self.train_transitions_count_np = np.unique(train_transitions_df, return_counts=True)\n",
        "\n",
        "  def accuracy(self, traces_features_df):\n",
        "    return 1 - traces_features_df['trace_label_is_wrong'].sum()/len(traces_features_df)\n",
        "\n",
        "  def accuracy_on_coverage(self, traces_features_df, traces_covering_type_np):\n",
        "    traces_features_df['traces_covering_type'] = traces_covering_type_np.astype(float)\n",
        "    traces_features_df['accuracy_weight'] = 1\n",
        "    agg_df = traces_features_df.query('traces_covering_type>-1')[[\n",
        "      'traces_covering_type', 'trace_label_is_wrong', 'accuracy_weight'\n",
        "    ]].groupby('traces_covering_type').sum().reset_index()\n",
        "\n",
        "    accuracy_on_each_block = 1-(agg_df['trace_label_is_wrong']/agg_df['accuracy_weight'])\n",
        "    acc = (accuracy_on_each_block * agg_df['accuracy_weight']).sum()/agg_df['accuracy_weight'].sum()\n",
        "    return acc\n",
        "\n",
        "  def new_last_state_coverage(self, traces_features_df, traces_df, traces_dist_to_centroids_df, transitions_df):\n",
        "    seen_last_states_in_this_test = np.unique(traces_df[traces_df.shape[1]-1].values.astype(str))\n",
        "    coverage_coe = np.logical_not(np.isin(seen_last_states_in_this_test, self.last_states_in_training)).sum() /\\\n",
        "                   (self.all_states_counts - len(self.last_states_in_training))\n",
        "\n",
        "    traces_covering_type_np = np.logical_not(np.isin(traces_df[traces_df.shape[1]-1].values.astype(str), self.last_states_in_training))\n",
        "    traces_covering_type_np = traces_df[traces_df.shape[1]-1].values.astype(int) * traces_covering_type_np - 1\n",
        "\n",
        "    return coverage_coe, traces_covering_type_np\n",
        "\n",
        "  def all_labels_and_last_states_coverage(self, traces_features_df, traces_df, traces_dist_to_centroids_df, transitions_df):\n",
        "    seen_last_states_in_this_test = np.unique(\n",
        "      traces_df[traces_df.shape[1]-1].astype(str) + '.' + traces_features_df['true_label'].astype(str)\n",
        "    )\n",
        "\n",
        "    coverage_coe = len(seen_last_states_in_this_test) / (self.all_states_counts * self.dataset_classes_count)\n",
        "    traces_covering_type_np = (traces_df[traces_df.shape[1]-1].values.astype(float) +\n",
        "                               traces_features_df['true_label'].apply(lambda x: float('0.'+str(x))).values)\n",
        "\n",
        "    return coverage_coe, traces_covering_type_np\n",
        "\n",
        "  def weighted_all_labels_and_last_states_coverage(self, traces_features_df, traces_df, traces_dist_to_centroids_df, transitions_df):\n",
        "    seen_last_states_in_this_test = np.unique(\n",
        "      traces_df[traces_df.shape[1]-1].astype(str) + '.' + traces_features_df['true_label'].astype(str)\n",
        "    )\n",
        "    weights = 1/(self.last_states_true_based_df['count'])\n",
        "\n",
        "    mutual_last_states_and_labels = np.isin(self.last_states_and_true_label_in_training,\n",
        "                                            seen_last_states_in_this_test)\n",
        "    not_mutual_last_states_and_labels_count = len(seen_last_states_in_this_test) - np.sum(mutual_last_states_and_labels)\n",
        "\n",
        "    coverage_coe =  ((mutual_last_states_and_labels * weights).sum() + not_mutual_last_states_and_labels_count)/\\\n",
        "                    (weights.sum() + not_mutual_last_states_and_labels_count)\n",
        "\n",
        "    traces_covering_type_np = (traces_df[traces_df.shape[1]-1].values.astype(float) +\n",
        "                               traces_features_df['true_label'].apply(lambda x: float('0.'+str(x))).values)\n",
        "\n",
        "    return coverage_coe, traces_covering_type_np\n",
        "\n",
        "  def n_step_last_state_boundry_coverage(self, traces_features_df, traces_df, traces_dist_to_centroids_df, transitions_df):\n",
        "    last_states_dist = traces_dist_to_centroids_df[traces_dist_to_centroids_df.shape[1]-1]\n",
        "    covered_layers = (last_states_dist/self.mean_dist_to_centroids).astype(str)\n",
        "\n",
        "    coverage_value = np.unique(\n",
        "      covered_layers[last_states_dist > self.max_dist_to_centroids] + '.' +\\\n",
        "      traces_df[traces_df.shape[1]-1].values[last_states_dist > self.max_dist_to_centroids].astype(str)\n",
        "    ).__len__()\n",
        "\n",
        "    traces_covering_type_np = (covered_layers + '.' +\\\n",
        "                               traces_df[traces_df.shape[1]-1].values.astype(str))\n",
        "    _, traces_covering_type_np = np.unique(traces_covering_type_np, return_inverse=True)\n",
        "    traces_covering_type_np[last_states_dist < self.max_dist_to_centroids] = -1\n",
        "\n",
        "    return coverage_value, traces_covering_type_np\n",
        "\n",
        "\n",
        "  def basic_last_state_coverage(self, traces_features_df, traces_df, traces_dist_to_centroids_df, transitions_df):\n",
        "    temp_last_states = np.unique(traces_df[traces_df.shape[1]-1].astype(str))\n",
        "    coverage_coe = np.isin(temp_last_states, self.last_states_in_training).sum() / len(self.last_states_in_training)\n",
        "\n",
        "    traces_covering_type_np = traces_df[traces_df.shape[1]-1].values.astype(int)\n",
        "    traces_covering_type_np[np.logical_not(np.isin(traces_covering_type_np.astype(str), self.last_states_in_training))] = -1\n",
        "\n",
        "    return coverage_coe, traces_covering_type_np\n",
        "\n",
        "\n",
        "  def basic_labels_and_last_state_coverage(self, traces_features_df, traces_df, traces_dist_to_centroids_df, transitions_df):\n",
        "    seen_last_states_and_true_label_in_this_test = np.unique(\n",
        "      traces_df[traces_df.shape[1]-1].astype(str) + '.' + traces_features_df['true_label'].astype(str)\n",
        "    )\n",
        "    coverage_coe = np.isin(seen_last_states_and_true_label_in_this_test, self.last_states_and_true_label_in_training).sum() /\\\n",
        "                  len(self.last_states_and_true_label_in_training)\n",
        "\n",
        "    traces_covering_type_np = (traces_df[traces_df.shape[1]-1].astype(str) + '.' + traces_features_df['true_label'].astype(str))\n",
        "    traces_covering_type_np[np.logical_not(np.isin(traces_covering_type_np, self.last_states_and_true_label_in_training))] = '-1'\n",
        "    traces_covering_type_np = traces_covering_type_np.values.astype(float)\n",
        "\n",
        "    return coverage_coe, traces_covering_type_np\n",
        "\n",
        "\n",
        "  def weighted_basic_labels_and_last_state_coverage(self, traces_features_df, traces_df, traces_dist_to_centroids_df, transitions_df):\n",
        "    seen_last_states_and_true_label_in_this_test = np.unique(\n",
        "      traces_df[traces_df.shape[1]-1].astype(str) + '.' + traces_features_df['true_label'].astype(str)\n",
        "    )\n",
        "\n",
        "    mutual = np.isin(self.last_states_and_true_label_in_training, seen_last_states_and_true_label_in_this_test)\n",
        "    weights = self.last_states_true_based_df['count'].values\n",
        "\n",
        "    coverage_coe = (mutual*weights).sum() / (weights).sum()\n",
        "\n",
        "    traces_covering_type_np = (traces_df[traces_df.shape[1]-1].astype(str) + '.' + traces_features_df['true_label'].astype(str))\n",
        "    traces_covering_type_np[np.logical_not(np.isin(traces_covering_type_np, self.last_states_and_true_label_in_training))] = '-1'\n",
        "    traces_covering_type_np = traces_covering_type_np.values.astype(float)\n",
        "\n",
        "    return coverage_coe, traces_covering_type_np\n",
        "\n",
        "\n",
        "  def basic_states_coverage(self, traces_features_df, traces_df, traces_dist_to_centroids_df, transitions_df):\n",
        "    traces_states = np.unique(traces_df)\n",
        "    coverage_coe = np.isin(traces_states, self.train_states_np).sum() / len(self.train_states_np)\n",
        "\n",
        "    traces_df['all_seen_states'] = traces_df.apply(lambda x: np.unique(x.values), axis=1)\n",
        "    traces_df['no_new_state'] = traces_df['all_seen_states'].apply(lambda x: np.logical_not(np.isin(x,self.train_states_np)).sum()==0)\n",
        "    _, traces_covering_type_np = np.unique(traces_df['all_seen_states'].astype(str).values, return_inverse=True)\n",
        "    traces_covering_type_np = (traces_covering_type_np + 1) * traces_df['no_new_state'].values - 1\n",
        "\n",
        "    return coverage_coe, traces_covering_type_np\n",
        "\n",
        "\n",
        "  def weighted_states_coverage(self, traces_features_df, traces_df, traces_dist_to_centroids_df, transitions_df):\n",
        "    traces_states = np.unique(traces_df)\n",
        "\n",
        "    mutual_states = np.isin(self.train_states_np, traces_states)\n",
        "    weights = 1/(self.train_states_count_np)\n",
        "\n",
        "    not_mutual_states_count = len(traces_states) - np.sum(mutual_states)\n",
        "\n",
        "    coverage_coe = (np.sum(mutual_states * weights)+not_mutual_states_count) / (np.sum(weights)+not_mutual_states_count)\n",
        "\n",
        "    traces_df['all_seen_states'] = traces_df.apply(lambda x: str(np.unique(x.values)), axis=1)\n",
        "    _, traces_covering_type_np = np.unique(traces_df['all_seen_states'].values, return_inverse=True)\n",
        "    return coverage_coe, traces_covering_type_np\n",
        "\n",
        "\n",
        "  def n_step_states_boundry_coverage(self, traces_features_df, traces_df, traces_dist_to_centroids_df, transitions_df):\n",
        "    max_states_dist = traces_dist_to_centroids_df.max(axis=1).values\n",
        "    max_states_dist_related_states_index = np.argmax(traces_dist_to_centroids_df.values, axis=1)\n",
        "    max_states_dist_related_states = np.diag(traces_df.values[:, max_states_dist_related_states_index])\n",
        "    covered_layers = (max_states_dist/self.mean_dist_to_centroids).astype(str)\n",
        "\n",
        "    coverage_value = np.unique(\n",
        "      pd.Series(covered_layers[max_states_dist > self.max_dist_to_centroids]) + '.' +\\\n",
        "      pd.Series(max_states_dist_related_states[max_states_dist > self.max_dist_to_centroids].astype(str))\n",
        "    ).__len__()\n",
        "\n",
        "    _, traces_covering_type_np = np.unique(pd.Series(covered_layers) + '.' + pd.Series(max_states_dist_related_states.astype(str)), return_inverse=True)\n",
        "    traces_covering_type_np[max_states_dist < self.max_dist_to_centroids] = -1\n",
        "\n",
        "    return coverage_value, traces_covering_type_np\n",
        "\n",
        "\n",
        "  def basic_trans_coverage(self, traces_features_df, traces_df, traces_dist_to_centroids_df, transitions_df):\n",
        "    temp_transes = np.unique(transitions_df)\n",
        "    coverage_coe = np.isin(temp_transes, self.train_transitions_np).sum() / len(self.train_transitions_np)\n",
        "\n",
        "    transitions_df = transitions_df.transpose()\n",
        "    transitions_df['all_seen_traces'] = transitions_df.apply(lambda x: np.unique(x.values), axis=1)\n",
        "    transitions_df['no_new_transition'] = transitions_df['all_seen_traces'].apply(lambda x: np.logical_not(np.isin(x,self.train_transitions_np)).sum()==0)\n",
        "    _, traces_covering_type_np = np.unique(transitions_df['all_seen_traces'].astype(str).values, return_inverse=True)\n",
        "    traces_covering_type_np = (traces_covering_type_np + 1) * transitions_df['no_new_transition'].values - 1\n",
        "\n",
        "    return coverage_coe, traces_covering_type_np\n",
        "\n",
        "  def weighted_trans_coverage(self, traces_features_df, traces_df, traces_dist_to_centroids_df, transitions_df):\n",
        "    temp_transes = np.unique(transitions_df)\n",
        "    mutual_transes = np.isin(self.train_transitions_np, temp_transes)\n",
        "    not_mutual_transes = np.logical_not(np.isin(temp_transes, self.train_transitions_np))\n",
        "    weights = 1/(self.train_transitions_count_np)\n",
        "    coverage_coe = (np.sum(mutual_transes * weights)+np.sum(not_mutual_transes)) / (np.sum(weights)+np.sum(not_mutual_transes))\n",
        "\n",
        "    transitions_df = transitions_df.transpose()\n",
        "    transitions_df['all_seen_traces'] = transitions_df.apply(lambda x: str(np.unique(x.values)), axis=1)\n",
        "    _, traces_covering_type_np = np.unique(transitions_df['all_seen_traces'].values, return_inverse=True)\n",
        "    return coverage_coe, traces_covering_type_np"
      ]
    },
    {
      "cell_type": "code",
      "execution_count": null,
      "metadata": {
        "id": "kbRSzsI-JP0I"
      },
      "outputs": [],
      "source": [
        "# from libs.coverage_criterias import CoverageCriterias\n",
        "from scipy import stats\n",
        "from matplotlib.pyplot import figure\n",
        "import matplotlib.pyplot as plt\n",
        "import random\n",
        "\n",
        "_coverage_criterias = CoverageCriterias(\n",
        "    dtmc_model,\n",
        "    last_states_df,\n",
        "    last_states_true_based_df,\n",
        "    N_CLUSTERS,\n",
        "    dataset_classes_count=true.shape[1],\n",
        "    mean_dist_to_centroids=mean_distance_in_clusters,\n",
        "    max_dist_to_centroids=max_distance_in_clusters\n",
        ")\n",
        "\n",
        "p_values_ls = []\n",
        "\n",
        "all_traces_features_df_test = traces_features_df_test.append(traces_features_df_test_rotated)\\\n",
        "                                              .append(traces_features_df_test_zoomed)\\\n",
        "                                              .append(traces_features_df_test_zoomed_out)\\\n",
        "                                              .reset_index(drop=True)\n",
        "\n",
        "all_traces_df_test = dtmc_model_test.traces_df.transpose()\\\n",
        "                                              .append(dtmc_model_test_rotated.traces_df.transpose())\\\n",
        "                                              .append(dtmc_model_test_zoomed.traces_df.transpose())\\\n",
        "                                              .append(dtmc_model_test_zoomed_out.traces_df\\\n",
        "                                              .transpose()).reset_index(drop=True)\n",
        "\n",
        "all_traces_dist_to_centroids_df_test = dtmc_model_test.traces_df.transpose()\\\n",
        "                                              .append(dtmc_model_test_rotated.traces_dist_to_centroids_df.transpose())\\\n",
        "                                              .append(dtmc_model_test_zoomed.traces_dist_to_centroids_df.transpose())\\\n",
        "                                              .append(dtmc_model_test_zoomed_out.traces_dist_to_centroids_df\\\n",
        "                                              .transpose()).reset_index(drop=True)\n",
        "\n",
        "tests_transitions_df = all_traces_df_test.transpose().reset_index(drop=True)[0:-1]\\\n",
        "                                          .reset_index(drop=True).astype(str) + '_' +\\\n",
        "                                          all_traces_df_test.transpose()\\\n",
        "                                          .reset_index(drop=True)[1:]\\\n",
        "                                          .reset_index(drop=True).astype(str)\n",
        "metrics_custom_name = {\n",
        "    'new_last_state_coverage':'New Last State Coverage',\n",
        "    'all_labels_and_last_states_coverage':'Labels and Last States Coverage',\n",
        "    'weighted_all_labels_and_last_states_coverage':'Weighted Labels and Last States Coverage',\n",
        "    'n_step_last_state_boundry_coverage':'Out of Boundary Last States Coverage',\n",
        "    'basic_last_state_coverage':'Basic Last States Coverage',\n",
        "    'basic_labels_and_last_state_coverage':'Basic Labels and Last States Coverage',\n",
        "    'weighted_basic_labels_and_last_state_coverage':'Weighted Basic Labels and Last States Coverage',\n",
        "    'basic_states_coverage':'Basic States Coverage',\n",
        "    'weighted_states_coverage':'Weighted States Coverage',\n",
        "    'n_step_states_boundry_coverage':'Out of Boundary States Coverage',\n",
        "    'basic_trans_coverage':'Basic Transitions Coverage',\n",
        "    'weighted_trans_coverage':'Weighted Transitions Coverage'\n",
        "}\n",
        "for metric_function in [\n",
        "    _coverage_criterias.new_last_state_coverage,\n",
        "    _coverage_criterias.all_labels_and_last_states_coverage,\n",
        "    _coverage_criterias.weighted_all_labels_and_last_states_coverage,\n",
        "    _coverage_criterias.n_step_last_state_boundry_coverage,\n",
        "    _coverage_criterias.basic_last_state_coverage,\n",
        "    _coverage_criterias.basic_labels_and_last_state_coverage,\n",
        "    _coverage_criterias.weighted_basic_labels_and_last_state_coverage,\n",
        "    _coverage_criterias.basic_states_coverage,\n",
        "    _coverage_criterias.weighted_states_coverage,\n",
        "    _coverage_criterias.n_step_states_boundry_coverage,\n",
        "    # _coverage_criterias.basic_trans_coverage,\n",
        "    # _coverage_criterias.weighted_trans_coverage\n",
        "  ]:\n",
        "  samples_metric_values = []\n",
        "  samples_accuracy = []\n",
        "  samples_coverage_accuracy = []\n",
        "  for i in range(1000):\n",
        "    random_index = np.random.choice(len(all_traces_features_df_test), 1000, replace=False)\n",
        "    sample_features_df = all_traces_features_df_test.loc[random_index].copy()\n",
        "    sample_traces_df = all_traces_df_test.loc[random_index].copy()\n",
        "    sample_traces_dist_to_centroids_df = all_traces_dist_to_centroids_df_test.loc[random_index].copy()\n",
        "    sample_transitions_df = tests_transitions_df[random_index].copy()\n",
        "    coverage_coe, traces_covering_type_np = metric_function(sample_features_df, sample_traces_df, sample_traces_dist_to_centroids_df, sample_transitions_df)\n",
        "    samples_metric_values.append(coverage_coe)\n",
        "    samples_accuracy.append(_coverage_criterias.accuracy(sample_features_df))\n",
        "    samples_coverage_accuracy.append(_coverage_criterias.accuracy_on_coverage(sample_features_df, traces_covering_type_np))\n",
        "\n",
        "  kstest_result = stats.kstest(\n",
        "    samples_accuracy, # random.choices(samples_accuracy, k=1000),\n",
        "    random.choices(\n",
        "      np.nan_to_num(samples_coverage_accuracy),\n",
        "      weights=np.nan_to_num(samples_coverage_accuracy),\n",
        "      k = 1500\n",
        "    )\n",
        "  )\n",
        "\n",
        "  figure(figsize=(6, 6), dpi=100)\n",
        "  plt.title(metrics_custom_name[str(metric_function).split(' ')[2].split('.')[1]])\n",
        "  sn.distplot(samples_accuracy, hist_kws={\"alpha\":0.2}, color='black', label='Test Suites Accuracy', norm_hist=True)\n",
        "  sn.distplot(np.nan_to_num(samples_coverage_accuracy), hist_kws={\"alpha\":0.2, \"weights\":np.nan_to_num(samples_metric_values)},\n",
        "              color='red', label='Test Suites Accuracy on Covered Areas', norm_hist=True)\n",
        "  plt.legend()\n",
        "  plt.show()\n",
        "  print('P-value:', kstest_result)\n",
        "  print('----------------------')\n",
        "\n",
        "\n",
        "del all_traces_df_test\n",
        "del all_traces_dist_to_centroids_df_test\n",
        "del tests_transitions_df"
      ]
    },
    {
      "cell_type": "markdown",
      "metadata": {
        "id": "oJMv96Lb7OpE"
      },
      "source": [
        "# Runtime Trustworthiness"
      ]
    },
    {
      "cell_type": "code",
      "execution_count": null,
      "metadata": {
        "id": "yT5eFVPd8K9F"
      },
      "outputs": [],
      "source": [
        "all_tests_indexes = np.arange(len(all_traces_features_df_test))\n",
        "np.random.shuffle(all_tests_indexes)\n",
        "all_traces_features_df_test = all_traces_features_df_test.loc[all_tests_indexes].reset_index(drop=True)"
      ]
    },
    {
      "cell_type": "code",
      "execution_count": null,
      "metadata": {
        "colab": {
          "base_uri": "https://localhost:8080/"
        },
        "id": "FAmhJLgeUr89",
        "outputId": "ac9d8070-e372-4d07-ee01-48bfa6e34a18"
      },
      "outputs": [
        {
          "output_type": "stream",
          "name": "stdout",
          "text": [
            "Index(['trace_has_new_transition', 'trace_has_new_state',\n",
            "       'trace_share_rate_at_last_state', 'trace_count_at_last_state',\n",
            "       'trace_label_is_wrong', 'trace_probability_sum',\n",
            "       'trace_probability_mean', 'trace_probability_prod', 'pred_label',\n",
            "       'true_label'],\n",
            "      dtype='object')\n",
            "                          feature  importance\n",
            "0       trace_count_at_last_state    0.862120\n",
            "1           trace_probability_sum    0.071444\n",
            "2          trace_probability_mean    0.050877\n",
            "3  trace_share_rate_at_last_state    0.015559\n",
            "4        trace_has_new_transition    0.000000\n",
            "5             trace_has_new_state    0.000000\n",
            "6          trace_probability_prod    0.000000\n"
          ]
        }
      ],
      "source": [
        "from sklearn.tree import DecisionTreeClassifier\n",
        "from sklearn.ensemble import RandomForestClassifier\n",
        "from sklearn.svm import SVC\n",
        "import pandas as pd\n",
        "\n",
        "split_point = int(len(all_traces_features_df_test) * 0.75)\n",
        "split_point\n",
        "\n",
        "# clf = SVC(gamma='auto', max_iter=40000, verbose=True, C=10, kernel='linear')\n",
        "clf = DecisionTreeClassifier(random_state=0, max_depth=5)\n",
        "# clf = RandomForestClassifier(max_depth=9, random_state=0, n_estimators=24)\n",
        "\n",
        "features = ['trace_has_new_transition', 'trace_has_new_state',\n",
        "       'trace_share_rate_at_last_state', 'trace_count_at_last_state',\n",
        "       'trace_probability_sum', 'trace_probability_mean', 'trace_probability_prod']\n",
        "\n",
        "clf = clf.fit(all_traces_features_df_test[features].values[0:split_point],\n",
        "              all_traces_features_df_test['trace_label_is_wrong'].values[0:split_point]\n",
        ")\n",
        "print(all_traces_features_df_test.columns)\n",
        "\n",
        "features_importance_df = pd.DataFrame()\n",
        "\n",
        "features_importance_df['feature'] = features\n",
        "features_importance_df['importance'] = clf.feature_importances_\n",
        "features_importance_df = features_importance_df.sort_values('importance', ascending = False).reset_index(drop=True)\n",
        "\n",
        "print(features_importance_df)"
      ]
    },
    {
      "cell_type": "code",
      "execution_count": null,
      "metadata": {
        "colab": {
          "base_uri": "https://localhost:8080/",
          "height": 555
        },
        "id": "eIsLgq4sV4x9",
        "outputId": "23e61768-37fb-423e-c35c-a086725179dd"
      },
      "outputs": [
        {
          "output_type": "display_data",
          "data": {
            "text/plain": [
              "<Figure size 1200x600 with 1 Axes>"
            ],
            "image/png": "[encoded data removed]"
          },
          "metadata": {
            "needs_background": "light"
          }
        }
      ],
      "source": [
        "from sklearn.metrics import roc_curve, auc\n",
        "\n",
        "# Compute micro-average ROC curve and ROC area\n",
        "fpr, tpr, _ = roc_curve(all_traces_features_df_test['trace_label_is_wrong'].values[:split_point],\n",
        "                        clf.predict_proba(all_traces_features_df_test[features].values[:split_point])[:,1])\n",
        "roc_auc = auc(fpr, tpr)\n",
        "\n",
        "figure(figsize=(12, 6), dpi=100)\n",
        "\n",
        "lw = 2\n",
        "plt.plot(\n",
        "    fpr,\n",
        "    tpr,\n",
        "    color=\"darkorange\",\n",
        "    lw=lw,\n",
        "    label=\"ROC curve (area = %0.2f)\" % roc_auc,\n",
        ")\n",
        "\n",
        "plt.plot([0, 1], [0, 1], color=\"navy\", lw=lw, linestyle=\"--\")\n",
        "plt.xlim([0.0, 1.0])\n",
        "plt.ylim([0.0, 1.05])\n",
        "plt.xlabel(\"False Positive Rate\")\n",
        "plt.ylabel(\"True Positive Rate\")\n",
        "plt.title(\"Receiver operating characteristic example\")\n",
        "plt.legend(loc=\"lower right\")\n",
        "plt.show()"
      ]
    }
  ],
  "metadata": {
    "colab": {
      "toc_visible": true,
      "provenance": []
    },
    "kernelspec": {
      "display_name": "Python 3",
      "name": "python3"
    },
    "language_info": {
      "name": "python"
    }
  },
  "nbformat": 4,
  "nbformat_minor": 0
}